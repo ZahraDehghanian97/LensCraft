{
  "cells": [
    {
      "cell_type": "markdown",
      "metadata": {},
      "source": [
        "<a href=\"https://colab.research.google.com/github/ZahraDehghanian97/LenseCraft/blob/master/Cinematography_Instruction_Analysis.ipynb\" target=\"_parent\"><img src=\"https://colab.research.google.com/assets/colab-badge.svg\" alt=\"Open In Colab\"/></a>"
      ]
    },
    {
      "cell_type": "code",
      "execution_count": null,
      "metadata": {
        "id": "oEKo1EUbn25b"
      },
      "outputs": [],
      "source": [
        "%cd /content/\n",
        "\n",
        "from getpass import getpass\n",
        "\n",
        "repo_url = f\"https://{getpass('GitHub Username: ')}:{getpass('GitHub Personal Access Token: ')}@github.com/ZahraDehghanian97/LensCraft.git\"\n",
        "\n",
        "!git clone --recurse-submodules -j8 {repo_url}\n",
        "\n",
        "%cd /content/LensCraft\n",
        "\n",
        "!pip install -r requirements.txt\n",
        "\n",
        "!mkdir -p datasets/simulation\n",
        "!gdown -O datasets/simulation/random_simulation_dataset.json 1VT2XfBj9LFWLUBjv65dzC4bVzH0zdNDU"
      ]
    },
    {
      "cell_type": "code",
      "execution_count": null,
      "metadata": {},
      "outputs": [],
      "source": [
        "%cd /content/LensCraft\n",
        "!python src/train.py batch_size=16"
      ]
    }
  ],
  "metadata": {
    "accelerator": "GPU",
    "colab": {
      "gpuType": "T4",
      "provenance": []
    },
    "kernelspec": {
      "display_name": "Python 3",
      "name": "python3"
    },
    "language_info": {
      "name": "python"
    }
  },
  "nbformat": 4,
  "nbformat_minor": 0
}
